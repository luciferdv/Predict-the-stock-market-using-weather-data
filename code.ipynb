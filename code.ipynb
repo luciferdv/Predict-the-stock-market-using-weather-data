{
 "cells": [
  {
   "cell_type": "code",
   "execution_count": null,
   "metadata": {},
   "outputs": [],
   "source": [
    "%%capture\n",
    "%pip install tqdm seaborn skillsnetwork scikit-learn==0.24"
   ]
  },
  {
   "cell_type": "code",
   "execution_count": null,
   "metadata": {},
   "outputs": [],
   "source": [
    "from functools import reduce\n",
    "from copy import deepcopy\n",
    "import tqdm\n",
    "import numpy as np\n",
    "from scipy.signal import periodogram\n",
    "from scipy.stats import binomtest\n",
    "import pandas as pd\n",
    "import skillsnetwork\n",
    "import statsmodels.api as sm\n",
    "from statsmodels.tsa.stattools import adfuller, kpss\n",
    "from sklearn.model_selection import TimeSeriesSplit\n",
    "from sklearn.metrics import mean_absolute_error\n",
    "from sklearn.ensemble import RandomForestRegressor\n",
    "import matplotlib.pyplot as plt\n",
    "from matplotlib.patches import Patch\n",
    "import seaborn as sns\n",
    "%matplotlib inline\n",
    "\n",
    "# Float format for pandas display\n",
    "pd.set_option('display.float_format', lambda x: '%.8f' % x)\n",
    "\n",
    "# Suppress unneeded warnings:\n",
    "def warn(*args, **kwargs):\n",
    "    pass\n",
    "import warnings\n",
    "warnings.warn = warn\n",
    "warnings.filterwarnings('ignore')\n",
    "\n",
    "sns.set_context('notebook')\n",
    "sns.set(style=\"darkgrid\")"
   ]
  },
  {
   "cell_type": "code",
   "execution_count": null,
   "metadata": {},
   "outputs": [],
   "source": [
    "\n",
    "await skillsnetwork.download_dataset(\n",
    "    'https://cf-courses-data.s3.us.cloud-object-storage.appdomain.cloud/IBMSkillsNetwork-GPXX0K1YEN/laguardia.csv'\n",
    ")\n",
    "laguardia = pd.read_csv('laguardia.csv', dtype='str')\n",
    "\n",
    "# Import DOW Jones Industrial Average historical data\n",
    "\n",
    "await skillsnetwork.download_dataset(\n",
    "    'https://cf-courses-data.s3.us.cloud-object-storage.appdomain.cloud/IBMSkillsNetwork-GPXX0K1YEN/dow_jones.csv'\n",
    ")\n",
    "dow = pd.read_csv('dow_jones.csv', dtype='str')"
   ]
  },
  {
   "cell_type": "code",
   "execution_count": null,
   "metadata": {},
   "outputs": [],
   "source": [
    "laguardia['DATE'] = pd.to_datetime(laguardia.DATE)\n",
    "laguardia[['wind',\n",
    "           'dew_point',\n",
    "           'temp', 'pressure',\n",
    "           'cloud_cover']] = laguardia[['wind',\n",
    "                                        'dew_point',\n",
    "                                        'temp',\n",
    "                                        'pressure',\n",
    "                                        'cloud_cover']].astype(float)\n",
    "\n",
    "# Market data\n",
    "dow['DATE'] = pd.to_datetime(dow.DATE)\n",
    "# Drop missing value rows\n",
    "dow = dow.loc[dow.Open != '            na']\n",
    "dow[[i for i in dow.columns if i != 'DATE']] = dow[[i for i in dow.columns if i != 'DATE']].astype(float)\n",
    "dow['Volume'] = dow.Volume.astype(int)"
   ]
  },
  {
   "cell_type": "code",
   "execution_count": null,
   "metadata": {},
   "outputs": [],
   "source": [
    "laguardia = laguardia.loc[:, ['DATE', 'temp', 'cloud_cover']]\n",
    "dow = dow.loc[:, ['DATE', 'Close']]"
   ]
  },
  {
   "cell_type": "code",
   "execution_count": null,
   "metadata": {},
   "outputs": [],
   "source": [
    "print(\"laguardia 'DATE' field head\")\n",
    "print(laguardia.DATE.head())\n",
    "\n",
    "# The following code shows the hours for which data is available\n",
    "print(\"\\n laguardia 'DATE' field hour availability\")\n",
    "print(sorted(laguardia.DATE.dt.hour.unique()))\n",
    "\n",
    "# The following code shows the minutes for which data is available\n",
    "print(\"\\n laguardia 'DATE' field minute availability\")\n",
    "print(sorted(laguardia.DATE.dt.minute.unique()))"
   ]
  },
  {
   "cell_type": "code",
   "execution_count": null,
   "metadata": {},
   "outputs": [],
   "source": [
    "Click here for the solution\n",
    "# Print the `DATE` field in the `dow` dataset:\n",
    "print(\"dow 'DATE' field head\")\n",
    "print(dow.DATE.head())\n",
    "\n",
    "# The following code shows the hours for which data is available\n",
    "print(\"\\n dow 'DATE' field hour availability\")\n",
    "print(sorted(dow.DATE.dt.hour.unique()))\n",
    "\n",
    "# The following code shows the minutes for which data is available\n",
    "print(\"\\n dow 'DATE' field minute availability\")\n",
    "print(sorted(dow.DATE.dt.minute.unique()))"
   ]
  },
  {
   "cell_type": "code",
   "execution_count": null,
   "metadata": {},
   "outputs": [],
   "source": [
    "# The following code shows the frequency counts for minutes in `laguardia`:\n",
    "print(\"\\n laguardia 'DATE' field minute frequency (head):\")\n",
    "print(laguardia.DATE.dt.minute.value_counts().head())"
   ]
  },
  {
   "cell_type": "code",
   "execution_count": null,
   "metadata": {},
   "outputs": [],
   "source": [
    "print(\"'dow' duplicated:\")\n",
    "print(dow.DATE.duplicated().value_counts())"
   ]
  },
  {
   "cell_type": "code",
   "execution_count": null,
   "metadata": {},
   "outputs": [],
   "source": [
    "print(\"'dow' duplicated:\")\n",
    "print(dow.DATE.duplicated().value_counts())"
   ]
  },
  {
   "cell_type": "code",
   "execution_count": null,
   "metadata": {},
   "outputs": [],
   "source": [
    "print(\"'dow' missing:\")\n",
    "print(dow.isna().max())"
   ]
  },
  {
   "cell_type": "code",
   "execution_count": null,
   "metadata": {},
   "outputs": [],
   "source": [
    "pd.set_option('display.float_format', lambda x: '%.2f' % x)\n",
    "print(\"'laguardia' description:\")\n",
    "print(laguardia.describe())"
   ]
  },
  {
   "cell_type": "code",
   "execution_count": null,
   "metadata": {},
   "outputs": [],
   "source": [
    "print(\"'dow' description:\")\n",
    "print(dow.describe())\n",
    "pd.set_option('display.float_format', lambda x: '%.8f' % x)"
   ]
  },
  {
   "cell_type": "code",
   "execution_count": null,
   "metadata": {},
   "outputs": [],
   "source": [
    "# The following resamples all data to an hourly frequency by \n",
    "# taking an average of all minutes that round to that hour.\n",
    "laguardia['DATE'] = laguardia['DATE'].dt.round('60min')\n",
    "\n",
    "# Note that a loop is used to account for the fact that each column contains a\n",
    "# unique set of missing values:\n",
    "laguardia_cols = []\n",
    "\n",
    "for c in laguardia.columns:\n",
    "    if c == 'DATE':\n",
    "        continue\n",
    "    else:\n",
    "        laguardia_cols.append(\n",
    "            laguardia[['DATE', c]].dropna().groupby(\n",
    "                'DATE', as_index=False\n",
    "            ).agg({c: 'mean'})\n",
    "        )\n",
    "\n",
    "# Finally, merge all columns back together again:\n",
    "laguardia_merged = reduce(\n",
    "    lambda left, right: pd.merge(left, right, on=['DATE'], how='outer'), laguardia_cols\n",
    ")\n",
    "\n",
    "# Sort by DATE\n",
    "laguardia_merged.sort_values('DATE', inplace=True)\n",
    "\n",
    "# Let's see what the merged data looks like:\n",
    "laguardia_merged.head()"
   ]
  },
  {
   "cell_type": "code",
   "execution_count": null,
   "metadata": {},
   "outputs": [],
   "source": [
    "laguardia_merged[['cloud_cover', 'DATE']].dropna().DATE.diff().value_counts()"
   ]
  },
  {
   "cell_type": "code",
   "execution_count": null,
   "metadata": {},
   "outputs": [],
   "source": [
    "laguardia_nan_cloud_cover = laguardia_merged.set_index(\n",
    "    'DATE', drop=True\n",
    ").sort_index()\n",
    "laguardia_nan_cloud_cover = laguardia_nan_cloud_cover.reindex(\n",
    "    pd.date_range(\n",
    "        start=laguardia_merged.DATE.min(),\n",
    "        end=laguardia_merged.DATE.max(),\n",
    "        freq='1H'\n",
    "    )\n",
    ")\n",
    "laguardia_nan_cloud_cover = laguardia_nan_cloud_cover.loc[\n",
    "    laguardia_nan_cloud_cover.cloud_cover.isna()\n",
    "]\n",
    "laguardia_nan_cloud_cover['datetime'] = laguardia_nan_cloud_cover.index\n",
    "laguardia_nan_cloud_cover.datetime.dt.hour.value_counts()"
   ]
  },
  {
   "cell_type": "code",
   "execution_count": null,
   "metadata": {},
   "outputs": [],
   "source": [
    "# This should output just one row if there are no missing hours:\n",
    "print(laguardia_merged.DATE.diff().value_counts())"
   ]
  },
  {
   "cell_type": "code",
   "execution_count": null,
   "metadata": {},
   "outputs": [],
   "source": [
    "# Reindex the dataset to remove missing hours\n",
    "# First, set the `DATE` column as the index:\n",
    "laguardia_merged.set_index('DATE', drop=True, inplace=True)\n",
    "# Now reindex\n",
    "laguardia_merged = laguardia_merged.reindex(\n",
    "    pd.date_range(\n",
    "        start=laguardia_merged.index.min(),\n",
    "        end=laguardia_merged.index.max(),\n",
    "        freq='1H'\n",
    "    )\n",
    ")\n",
    "# Set all data types to float:\n",
    "laguardia_merged = laguardia_merged.astype(float)\n",
    "\n",
    "# Interpolate\n",
    "laguardia_merged.interpolate(method='linear', inplace=True)\n",
    "laguardia_merged.describe()"
   ]
  },
  {
   "cell_type": "code",
   "execution_count": null,
   "metadata": {},
   "outputs": [],
   "source": [
    "laguardia_merged.isna().value_counts()"
   ]
  },
  {
   "cell_type": "code",
   "execution_count": null,
   "metadata": {},
   "outputs": [],
   "source": [
    "# Get weather variables betweem 8am and 9pm\n",
    "laguardia_merged_avg = laguardia_merged.between_time('8:00', '9:00').reset_index()\n",
    "laguardia_merged_avg.rename({'index': 'DATE'}, axis=1, inplace=True)\n",
    "laguardia_merged_avg['DATE'] = laguardia_merged_avg['DATE'].dt.round('1D')\n",
    "laguardia_merged_avg = laguardia_merged_avg.groupby(\n",
    "    'DATE', as_index=False\n",
    ").agg({'temp': 'mean', 'cloud_cover': 'mean'}).set_index('DATE')\n",
    "rename_dict = dict(\n",
    "    zip(\n",
    "        laguardia_merged_avg.columns.tolist(),\n",
    "        [i + '_avg' for i in laguardia_merged_avg.columns]\n",
    "    )\n",
    ")\n",
    "laguardia_merged_avg.rename(rename_dict, axis=1, inplace=True)\n",
    "df_weather_final = laguardia_merged_avg\n",
    "df_weather_final.head()"
   ]
  },
  {
   "cell_type": "code",
   "execution_count": null,
   "metadata": {},
   "outputs": [],
   "source": [
    "# `dow` dataset, gaps between dates (head)\n",
    "dow.DATE.sort_values().diff().value_counts().head()"
   ]
  },
  {
   "cell_type": "code",
   "execution_count": null,
   "metadata": {},
   "outputs": [],
   "source": [
    "dow.sort_values('DATE', inplace=True)\n",
    "df = dow.merge(df_weather_final,\n",
    "               how='outer',\n",
    "               left_on='DATE',\n",
    "               right_index=True).set_index('DATE').sort_index()\n",
    "df = df.loc[df.index >= df_weather_final.index[0]]\n",
    "df.sort_index(inplace=True)\n",
    "df.head()"
   ]
  },
  {
   "cell_type": "code",
   "execution_count": null,
   "metadata": {},
   "outputs": [],
   "source": [
    "_ = sns.lineplot(data=df.Close).set_title('DJI Close Price')"
   ]
  },
  {
   "cell_type": "code",
   "execution_count": null,
   "metadata": {},
   "outputs": [],
   "source": [
    "df['log_Close'] = np.log(df.loc[:, 'Close'])\n",
    "_ = sns.lineplot(data=df.log_Close).set_title('Log DJI Close Price')"
   ]
  },
  {
   "cell_type": "code",
   "execution_count": null,
   "metadata": {},
   "outputs": [],
   "source": [
    "log_Close = deepcopy(df.loc[:, 'log_Close'])\n",
    "log_Close.dropna(inplace=True)\n",
    "ld_Close = log_Close.diff()\n",
    "df = df.merge(\n",
    "    pd.DataFrame(ld_Close).rename({'log_Close':'ld_Close'},axis=1),\n",
    "    how='left',\n",
    "    left_index=True,\n",
    "    right_index=True\n",
    ")\n",
    "_ = sns.lineplot(data=df.ld_Close).set_title('Log differenced DJI Close Price')"
   ]
  },
  {
   "cell_type": "code",
   "execution_count": null,
   "metadata": {},
   "outputs": [],
   "source": [
    "print('p-value of ADF test:')\n",
    "print(adfuller(df.ld_Close.dropna())[1])\n",
    "print('p-value of KPSS test:')\n",
    "print(kpss(df.ld_Close.dropna())[1])"
   ]
  },
  {
   "cell_type": "code",
   "execution_count": null,
   "metadata": {},
   "outputs": [],
   "source": [
    "def plot_periodogram(ts, detrend='linear', ax=None):\n",
    "    fs = pd.Timedelta(\"365D6H\") / pd.Timedelta(\"1D\")\n",
    "    freqencies, spectrum = periodogram(\n",
    "        ts,\n",
    "        fs=fs,\n",
    "        detrend=detrend,\n",
    "        window=\"boxcar\",\n",
    "        scaling='spectrum',\n",
    "    )\n",
    "    if ax is None:\n",
    "        _, ax = plt.subplots()\n",
    "    ax.step(freqencies, spectrum, color=\"purple\")\n",
    "    ax.set_xscale(\"log\")\n",
    "    ax.set_xticks([1, 2, 4, 6, 12, 26, 52, 73, 104])\n",
    "    ax.set_xticklabels(\n",
    "        [\n",
    "            \"Annual (1)\",\n",
    "            \"Semiannual (2)\",\n",
    "            \"Quarterly (4)\",\n",
    "            \"Bimonthly (6)\",\n",
    "            \"Monthly (12)\",\n",
    "            \"Biweekly (26)\",\n",
    "            \"Weekly (52)\",\n",
    "            \"5-day Week (73)\",\n",
    "            \"Semiweekly (104)\",\n",
    "        ],\n",
    "        rotation=30,\n",
    "    )\n",
    "    ax.ticklabel_format(axis=\"y\", style=\"sci\", scilimits=(0, 0))\n",
    "    ax.set_ylabel(\"Variance\")\n",
    "    ax.set_title(\"Periodogram\")\n",
    "    return ax\n",
    "\n",
    "# Set Matplotlib defaults\n",
    "plt.style.use(\"seaborn-whitegrid\")\n",
    "plt.rc(\"figure\", autolayout=True, figsize=(11, 5))\n",
    "plt.rc(\n",
    "    \"axes\",\n",
    "    labelweight=\"bold\",\n",
    "    labelsize=\"large\",\n",
    "    titleweight=\"bold\",\n",
    "    titlesize=16,\n",
    "    titlepad=10,\n",
    ")\n",
    "plot_params = dict(\n",
    "    color=\"0.75\",\n",
    "    style=\".-\",\n",
    "    markeredgecolor=\"0.25\",\n",
    "    markerfacecolor=\"0.25\",\n",
    "    legend=False,\n",
    ")\n",
    "\n",
    "\n",
    "plot_periodogram(df.loc[:, 'ld_Close'].dropna())"
   ]
  },
  {
   "cell_type": "code",
   "execution_count": null,
   "metadata": {},
   "outputs": [],
   "source": [
    "plot_periodogram(df.loc[:, 'log_Close'].dropna())"
   ]
  }
 ],
 "metadata": {
  "language_info": {
   "name": "python"
  }
 },
 "nbformat": 4,
 "nbformat_minor": 2
}
